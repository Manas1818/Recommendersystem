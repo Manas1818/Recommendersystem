{
 "cells": [
  {
   "cell_type": "code",
   "execution_count": 1,
   "id": "bfd8b459-6d50-4531-b763-3ea0829dbb9a",
   "metadata": {},
   "outputs": [],
   "source": [
    "import pandas as pd\n",
    "import numpy as np\n",
    "import seaborn as sns\n",
    "from matplotlib.pyplot import matplotlib as plt"
   ]
  },
  {
   "cell_type": "code",
   "execution_count": 2,
   "id": "989e2fb2-007e-4170-a453-0990c264cd84",
   "metadata": {},
   "outputs": [],
   "source": [
    "df_anime = pd.read_csv(\"anime.csv\")\n",
    "df_rating = pd.read_csv(\"rating.csv.zip\")"
   ]
  },
  {
   "cell_type": "code",
   "execution_count": 3,
   "id": "2f3710dc-dee4-43ff-abff-aa44b37def92",
   "metadata": {},
   "outputs": [
    {
     "data": {
      "text/plain": [
       "<bound method NDFrame.head of        anime_id                                               name  \\\n",
       "0         32281                                     Kimi no Na wa.   \n",
       "1          5114                   Fullmetal Alchemist: Brotherhood   \n",
       "2         28977                                           Gintama°   \n",
       "3          9253                                        Steins;Gate   \n",
       "4          9969                                      Gintama&#039;   \n",
       "...         ...                                                ...   \n",
       "12289      9316       Toushindai My Lover: Minami tai Mecha-Minami   \n",
       "12290      5543                                        Under World   \n",
       "12291      5621                     Violence Gekiga David no Hoshi   \n",
       "12292      6133  Violence Gekiga Shin David no Hoshi: Inma Dens...   \n",
       "12293     26081                   Yasuji no Pornorama: Yacchimae!!   \n",
       "\n",
       "                                                   genre   type episodes  \\\n",
       "0                   Drama, Romance, School, Supernatural  Movie        1   \n",
       "1      Action, Adventure, Drama, Fantasy, Magic, Mili...     TV       64   \n",
       "2      Action, Comedy, Historical, Parody, Samurai, S...     TV       51   \n",
       "3                                       Sci-Fi, Thriller     TV       24   \n",
       "4      Action, Comedy, Historical, Parody, Samurai, S...     TV       51   \n",
       "...                                                  ...    ...      ...   \n",
       "12289                                             Hentai    OVA        1   \n",
       "12290                                             Hentai    OVA        1   \n",
       "12291                                             Hentai    OVA        4   \n",
       "12292                                             Hentai    OVA        1   \n",
       "12293                                             Hentai  Movie        1   \n",
       "\n",
       "       rating  members  \n",
       "0        9.37   200630  \n",
       "1        9.26   793665  \n",
       "2        9.25   114262  \n",
       "3        9.17   673572  \n",
       "4        9.16   151266  \n",
       "...       ...      ...  \n",
       "12289    4.15      211  \n",
       "12290    4.28      183  \n",
       "12291    4.88      219  \n",
       "12292    4.98      175  \n",
       "12293    5.46      142  \n",
       "\n",
       "[12294 rows x 7 columns]>"
      ]
     },
     "execution_count": 3,
     "metadata": {},
     "output_type": "execute_result"
    }
   ],
   "source": [
    "df_anime.head"
   ]
  },
  {
   "cell_type": "code",
   "execution_count": null,
   "id": "ca8a84e2-a4ea-4e9c-9fa9-2122a99f49c3",
   "metadata": {},
   "outputs": [],
   "source": []
  }
 ],
 "metadata": {
  "kernelspec": {
   "display_name": "Python 3",
   "language": "python",
   "name": "python3"
  },
  "language_info": {
   "codemirror_mode": {
    "name": "ipython",
    "version": 3
   },
   "file_extension": ".py",
   "mimetype": "text/x-python",
   "name": "python",
   "nbconvert_exporter": "python",
   "pygments_lexer": "ipython3",
   "version": "3.8.8"
  }
 },
 "nbformat": 4,
 "nbformat_minor": 5
}
